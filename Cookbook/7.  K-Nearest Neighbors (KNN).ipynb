{
 "cells": [
  {
   "cell_type": "code",
   "execution_count": 2,
   "metadata": {},
   "outputs": [],
   "source": [
    "from sklearn.neighbors import KNeighborsClassifier\n",
    "from sklearn import datasets\n",
    "from sklearn.model_selection import train_test_split \n",
    "from sklearn.metrics import accuracy_score\n",
    "#load the classifying models \n",
    "from sklearn.linear_model import LogisticRegression \n",
    "from sklearn.svm import SVC\n",
    "import warnings #had to supress future warnings\n",
    "warnings.simplefilter(action='ignore', category=FutureWarning)\n",
    "\n",
    "iris = datasets.load_iris() \n",
    "X = iris.data[:, :2]  #load the first two features of the iris data \n",
    "y = iris.target #load the target of the iris data\n",
    "X_train, X_test, y_train, y_test = train_test_split(X, y, stratify = y, random_state = 0)"
   ]
  },
  {
   "cell_type": "code",
   "execution_count": 3,
   "metadata": {},
   "outputs": [],
   "source": [
    "from sklearn.model_selection import cross_val_score"
   ]
  },
  {
   "cell_type": "code",
   "execution_count": 4,
   "metadata": {},
   "outputs": [],
   "source": [
    "knn_3_clf = KNeighborsClassifier(n_neighbors = 3) \n",
    "knn_5_clf = KNeighborsClassifier(n_neighbors = 5)\n",
    "knn_3_scores = cross_val_score(knn_3_clf, X_train, y_train, cv=10) \n",
    "knn_5_scores = cross_val_score(knn_5_clf, X_train, y_train, cv=10) "
   ]
  },
  {
   "cell_type": "code",
   "execution_count": 8,
   "metadata": {},
   "outputs": [
    {
     "name": "stdout",
     "output_type": "stream",
     "text": [
      "knn_3 mean scores:  0.7983333333333333 knn_3 std:  0.09081421817216852\n",
      "knn_5 mean scores:  0.8066666666666666 knn_5 std:  0.05593205754956987\n"
     ]
    }
   ],
   "source": [
    "print ('knn_3 mean scores: ', knn_3_scores.mean(), 'knn_3 std: ',knn_3_scores.std())\n",
    "print ('knn_5 mean scores: ', knn_5_scores.mean(), 'knn_5 std: ',knn_5_scores.std())\n",
    "#this was a example of hyperparameter optimization "
   ]
  },
  {
   "cell_type": "code",
   "execution_count": 11,
   "metadata": {},
   "outputs": [
    {
     "data": {
      "text/plain": [
       "[(4, 0.8511111111111112),\n",
       " (7, 0.8261111111111111),\n",
       " (6, 0.8233333333333335),\n",
       " (5, 0.8066666666666666),\n",
       " (3, 0.7983333333333333),\n",
       " (8, 0.7983333333333333)]"
      ]
     },
     "execution_count": 11,
     "metadata": {},
     "output_type": "execute_result"
    }
   ],
   "source": [
    "all_scores = [] #it gets an array sorted with the best n_neighbors\n",
    "for n_neighbors in range(3,9,1):\n",
    "    knn_clf = KNeighborsClassifier(n_neighbors = n_neighbors)\n",
    "    all_scores.append((n_neighbors, cross_val_score(knn_clf, X_train, y_train, cv=10).mean())) \n",
    "sorted(all_scores, key = lambda x:x[1], reverse = True)"
   ]
  },
  {
   "cell_type": "code",
   "execution_count": null,
   "metadata": {},
   "outputs": [],
   "source": []
  }
 ],
 "metadata": {
  "kernelspec": {
   "display_name": "Python 3",
   "language": "python",
   "name": "python3"
  },
  "language_info": {
   "codemirror_mode": {
    "name": "ipython",
    "version": 3
   },
   "file_extension": ".py",
   "mimetype": "text/x-python",
   "name": "python",
   "nbconvert_exporter": "python",
   "pygments_lexer": "ipython3",
   "version": "3.7.3"
  }
 },
 "nbformat": 4,
 "nbformat_minor": 2
}
