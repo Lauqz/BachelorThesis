{
 "cells": [
  {
   "cell_type": "code",
   "execution_count": 6,
   "metadata": {},
   "outputs": [],
   "source": [
    "from sklearn import datasets\n",
    "from sklearn.model_selection import train_test_split \n",
    "from sklearn.metrics import accuracy_score\n",
    "import matplotlib.pyplot as plt \n",
    "#load the classifying models \n",
    "from sklearn.linear_model import LogisticRegression \n",
    "from sklearn.svm import SVC\n",
    "import warnings #had to supress future warnings\n",
    "warnings.simplefilter(action='ignore', category=FutureWarning)"
   ]
  },
  {
   "cell_type": "code",
   "execution_count": 3,
   "metadata": {},
   "outputs": [],
   "source": [
    "iris = datasets.load_iris() \n",
    "X = iris.data[:, :2]  #load the first two features of the iris data \n",
    "y = iris.target #load the target of the iris data"
   ]
  },
  {
   "cell_type": "code",
   "execution_count": 4,
   "metadata": {},
   "outputs": [],
   "source": [
    "#split the whole set one time \n",
    "#Note random state is 7 now \n",
    "X_train, X_test, y_train, y_test = train_test_split(X, y, stratify = y, random_state=7)"
   ]
  },
  {
   "cell_type": "code",
   "execution_count": 5,
   "metadata": {},
   "outputs": [],
   "source": [
    "#split the training set into parts \n",
    "X_train_2, X_test_2, y_train_2, y_test_2 = train_test_split(X_train, y_train, test_size=0.25, random_state=7) "
   ]
  },
  {
   "cell_type": "code",
   "execution_count": 5,
   "metadata": {},
   "outputs": [
    {
     "data": {
      "text/plain": [
       "SVC(C=1.0, cache_size=200, class_weight=None, coef0=0.0,\n",
       "    decision_function_shape='ovr', degree=3, gamma='auto_deprecated',\n",
       "    kernel='linear', max_iter=-1, probability=False, random_state=7,\n",
       "    shrinking=True, tol=0.001, verbose=False)"
      ]
     },
     "execution_count": 5,
     "metadata": {},
     "output_type": "execute_result"
    }
   ],
   "source": [
    "svc_clf = SVC(kernel = 'linear',random_state = 7) \n",
    "svc_clf.fit(X_train_2, y_train_2)"
   ]
  },
  {
   "cell_type": "code",
   "execution_count": 20,
   "metadata": {},
   "outputs": [],
   "source": [
    "lr_clf = LogisticRegression(random_state = 7).fit(X_train_2, y_train_2)\n",
    "#both lines are one"
   ]
  },
  {
   "cell_type": "code",
   "execution_count": 11,
   "metadata": {},
   "outputs": [
    {
     "name": "stdout",
     "output_type": "stream",
     "text": [
      "Accuracy of SVC: 0.8571428571428571\n",
      "Accuracy of LR: 0.7142857142857143\n"
     ]
    }
   ],
   "source": [
    "#performance of SVC vs LogisticRegression\n",
    "svc_pred = svc_clf.predict(X_test_2) \n",
    "lr_pred = lr_clf.predict(X_test_2)\n",
    "print ('Accuracy of SVC:', accuracy_score(y_test_2,svc_pred))\n",
    "print ('Accuracy of LR:', accuracy_score(y_test_2,lr_pred))"
   ]
  },
  {
   "cell_type": "code",
   "execution_count": 12,
   "metadata": {},
   "outputs": [
    {
     "name": "stdout",
     "output_type": "stream",
     "text": [
      "Accuracy of SVC on original Test Set:  0.6842105263157895\n"
     ]
    }
   ],
   "source": [
    "print ('Accuracy of SVC on original Test Set: ',accuracy_score(y_test, svc_clf.predict(X_test)))"
   ]
  },
  {
   "cell_type": "code",
   "execution_count": 13,
   "metadata": {},
   "outputs": [],
   "source": [
    "#REAL CROSS-VALIDATION FUNCTION FROM SCIKIT"
   ]
  },
  {
   "cell_type": "code",
   "execution_count": 14,
   "metadata": {},
   "outputs": [],
   "source": [
    "from sklearn.model_selection import cross_val_score"
   ]
  },
  {
   "cell_type": "code",
   "execution_count": 15,
   "metadata": {},
   "outputs": [
    {
     "data": {
      "text/plain": [
       "array([0.82758621, 0.85714286, 0.92857143, 0.77777778])"
      ]
     },
     "execution_count": 15,
     "metadata": {},
     "output_type": "execute_result"
    }
   ],
   "source": [
    "svc_scores = cross_val_score(svc_clf, X_train, y_train, cv=4) \n",
    "svc_scores"
   ]
  },
  {
   "cell_type": "code",
   "execution_count": 16,
   "metadata": {},
   "outputs": [
    {
     "name": "stdout",
     "output_type": "stream",
     "text": [
      "Average SVC scores:  0.8477695675971537\n",
      "Standard Deviation of SVC scores: 0.054596286469649064\n"
     ]
    }
   ],
   "source": [
    "print ('Average SVC scores: ', svc_scores.mean()) \n",
    "print ('Standard Deviation of SVC scores:', svc_scores.std())"
   ]
  },
  {
   "cell_type": "code",
   "execution_count": 21,
   "metadata": {},
   "outputs": [
    {
     "name": "stdout",
     "output_type": "stream",
     "text": [
      "Average SVC scores:  0.7488939062214924\n",
      "Standard Deviation of SVC scores:  0.048563316869946194\n"
     ]
    }
   ],
   "source": [
    "lr_scores = cross_val_score(lr_clf, X_train, y_train, cv=4) \n",
    "print ('Average SVC scores: ', lr_scores.mean())\n",
    "print ('Standard Deviation of SVC scores: ', lr_scores.std())"
   ]
  },
  {
   "cell_type": "code",
   "execution_count": null,
   "metadata": {},
   "outputs": [],
   "source": []
  }
 ],
 "metadata": {
  "kernelspec": {
   "display_name": "Python 3",
   "language": "python",
   "name": "python3"
  },
  "language_info": {
   "codemirror_mode": {
    "name": "ipython",
    "version": 3
   },
   "file_extension": ".py",
   "mimetype": "text/x-python",
   "name": "python",
   "nbconvert_exporter": "python",
   "pygments_lexer": "ipython3",
   "version": "3.7.3"
  }
 },
 "nbformat": 4,
 "nbformat_minor": 2
}
