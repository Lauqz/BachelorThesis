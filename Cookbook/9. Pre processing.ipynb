{
 "cells": [
  {
   "cell_type": "code",
   "execution_count": 1,
   "metadata": {},
   "outputs": [],
   "source": [
    "import sklearn.datasets as d \n",
    "import numpy as np"
   ]
  },
  {
   "cell_type": "code",
   "execution_count": 3,
   "metadata": {},
   "outputs": [
    {
     "data": {
      "text/plain": [
       "(array([[-0.2032538 ,  0.25718893, -2.17811448, ...,  0.85795759,\n",
       "         -0.32264419, -1.69600114],\n",
       "        [ 1.14750899,  0.18077578, -0.13306943, ...,  0.2781223 ,\n",
       "         -1.21644552,  0.59095948],\n",
       "        [ 0.16142127, -0.61327361,  0.7531583 , ..., -0.72827114,\n",
       "          0.8667631 , -0.14596872],\n",
       "        ...,\n",
       "        [-0.54874016, -0.37493604,  1.67538972, ..., -0.64727913,\n",
       "          1.1512701 , -0.7305981 ],\n",
       "        [ 0.65223684, -0.29103307,  1.84218163, ..., -0.16240013,\n",
       "         -1.09468912,  0.80398838],\n",
       "        [ 1.92546791, -0.03212004,  0.17426422, ...,  1.89406932,\n",
       "          0.56794758, -0.46729786]]),\n",
       " array([  -7.24373108, -377.9848241 ,  -94.96757646,   49.83439209,\n",
       "         143.78235402,  129.20091948,  202.40866426,  -22.93447194,\n",
       "         -88.87620625, -106.06519163,   16.79746816,  146.25096235,\n",
       "          27.88178298, -224.4767186 ,   15.92021257,   85.10138589,\n",
       "        -200.83312756,   63.71717517,  -23.74695522,  -14.67237392,\n",
       "          -8.23808446,  113.30977791,  189.23350167,   30.05904127,\n",
       "        -120.42827818,  -55.02508359,  181.64670942,  106.5567949 ,\n",
       "         200.41828268,  148.66183123,  394.61303594,  121.82069102,\n",
       "         106.75203695, -182.25137775,  147.82009331,  -72.83489773,\n",
       "         -87.97595968,  197.91978261,  254.01591637,  108.78824863,\n",
       "         142.72914654,   73.81213076,  -12.56895325,  192.21592842,\n",
       "         -81.55766632,  174.85346475,  173.69455241,   -9.55245704,\n",
       "         204.44853206,   65.8405705 ,  340.70662696,   89.85885631,\n",
       "          35.22114585,  116.24453989,  -35.82567472,    4.4396232 ,\n",
       "        -105.93835033, -119.87499506, -143.73190849, -146.29803138,\n",
       "         -79.3573745 ,  102.16750847,  -40.43263524,   91.96218779,\n",
       "         -33.10472637, -161.42124564, -182.44080887,   31.92344986,\n",
       "          12.42947562,  101.69802347,  144.12392483,  -43.24271667,\n",
       "          19.82201382, -107.80629306,  -46.11380434,  201.85446501,\n",
       "         164.09880153,   -5.26581267,  -36.01077041,  106.19761236,\n",
       "         -73.62326296,   23.92091563,  -59.5008031 ,  -52.5167254 ,\n",
       "        -176.87351399,  196.63334343, -183.87450807, -407.63278394,\n",
       "          56.75882329,  115.46839791,  132.20566872, -189.62021542,\n",
       "         -47.84601515,  -65.08804718,   16.55102527, -106.41845789,\n",
       "         -46.86613635, -171.66395232, -101.3847295 ,   -1.39192876]))"
      ]
     },
     "execution_count": 3,
     "metadata": {},
     "output_type": "execute_result"
    }
   ],
   "source": [
    "reg_data = d.make_regression() \n",
    "reg_data"
   ]
  },
  {
   "cell_type": "code",
   "execution_count": 4,
   "metadata": {},
   "outputs": [
    {
     "data": {
      "text/plain": [
       "(1000, 10)"
      ]
     },
     "execution_count": 4,
     "metadata": {},
     "output_type": "execute_result"
    }
   ],
   "source": [
    "#1000x10 matrix, 5 features responsible for the target creation, bias of 1.0 and 2 targets\n",
    "complex_reg_data = d.make_regression(1000, 10, 5, 2, 1.0) \n",
    "complex_reg_data[0].shape"
   ]
  },
  {
   "cell_type": "code",
   "execution_count": 8,
   "metadata": {},
   "outputs": [
    {
     "data": {
      "text/plain": [
       "<matplotlib.collections.PathCollection at 0xb584fd0>"
      ]
     },
     "execution_count": 8,
     "metadata": {},
     "output_type": "execute_result"
    },
    {
     "data": {
      "image/png": "[encoded data removed]",
      "text/plain": [
       "<Figure size 432x288 with 1 Axes>"
      ]
     },
     "metadata": {
      "needs_background": "light"
     },
     "output_type": "display_data"
    }
   ],
   "source": [
    "#dataset for clustering (elementi omogenei)\n",
    "import matplotlib.pyplot as plt \n",
    "%matplotlib inline \n",
    "#Within an Ipython notebook\n",
    "blobs_data, blobs_target = d.make_blobs()\n",
    "plt.scatter(blobs_data[:,0],blobs_data[:,1],c = blobs_target)"
   ]
  },
  {
   "cell_type": "code",
   "execution_count": 9,
   "metadata": {},
   "outputs": [],
   "source": [
    "#Pre-processing functions in python"
   ]
  },
  {
   "cell_type": "code",
   "execution_count": 22,
   "metadata": {},
   "outputs": [],
   "source": [
    "from sklearn import preprocessing \n",
    "import numpy as np # we'll need it later\n",
    "import pandas as pd\n",
    "from sklearn.datasets import load_boston\n",
    "\n",
    "boston = load_boston() \n",
    "X,y = boston.data, boston.target"
   ]
  },
  {
   "cell_type": "code",
   "execution_count": 16,
   "metadata": {},
   "outputs": [
    {
     "data": {
      "text/plain": [
       "array([ 3.61352356, 11.36363636, 11.13677866])"
      ]
     },
     "execution_count": 16,
     "metadata": {},
     "output_type": "execute_result"
    }
   ],
   "source": [
    "X[:, :3].mean(axis=0) #mean of the first 3 features (first 3 columns)"
   ]
  },
  {
   "cell_type": "code",
   "execution_count": 15,
   "metadata": {},
   "outputs": [
    {
     "data": {
      "text/plain": [
       "array([ 8.59304135, 23.29939569,  6.85357058])"
      ]
     },
     "execution_count": 15,
     "metadata": {},
     "output_type": "execute_result"
    }
   ],
   "source": [
    "X[:, :3].std(axis=0) #standard deviation"
   ]
  },
  {
   "cell_type": "code",
   "execution_count": 17,
   "metadata": {},
   "outputs": [
    {
     "data": {
      "text/plain": [
       "array([-8.78743718e-17, -6.34319123e-16, -2.68291099e-15])"
      ]
     },
     "execution_count": 17,
     "metadata": {},
     "output_type": "execute_result"
    }
   ],
   "source": [
    "X_2 = preprocessing.scale(X[:, :3])\n",
    "X_2.mean(axis=0)"
   ]
  },
  {
   "cell_type": "code",
   "execution_count": 18,
   "metadata": {},
   "outputs": [
    {
     "data": {
      "text/plain": [
       "array([1., 1., 1.])"
      ]
     },
     "execution_count": 18,
     "metadata": {},
     "output_type": "execute_result"
    }
   ],
   "source": [
    "X_2.std(axis=0)"
   ]
  },
  {
   "cell_type": "code",
   "execution_count": 19,
   "metadata": {},
   "outputs": [],
   "source": [
    "#The centering and scaling function is extremely simple. It merely subtracts the mean and divides by the standard deviation. "
   ]
  },
  {
   "cell_type": "code",
   "execution_count": 23,
   "metadata": {},
   "outputs": [
    {
     "data": {
      "text/plain": [
       "<matplotlib.axes._subplots.AxesSubplot at 0xbb431f0>"
      ]
     },
     "execution_count": 23,
     "metadata": {},
     "output_type": "execute_result"
    },
    {
     "data": {
      "image/png": "[encoded data removed]",
      "text/plain": [
       "<Figure size 432x288 with 1 Axes>"
      ]
     },
     "metadata": {
      "needs_background": "light"
     },
     "output_type": "display_data"
    }
   ],
   "source": [
    "pd.Series(X[:,2]).hist(bins=50)"
   ]
  },
  {
   "cell_type": "code",
   "execution_count": 24,
   "metadata": {},
   "outputs": [
    {
     "data": {
      "text/plain": [
       "<matplotlib.axes._subplots.AxesSubplot at 0xbbf2b50>"
      ]
     },
     "execution_count": 24,
     "metadata": {},
     "output_type": "execute_result"
    },
    {
     "data": {
      "image/png": "[encoded data removed]",
      "text/plain": [
       "<Figure size 432x288 with 1 Axes>"
      ]
     },
     "metadata": {
      "needs_background": "light"
     },
     "output_type": "display_data"
    }
   ],
   "source": [
    "pd.Series(preprocessing.scale(X[:, 2])).hist(bins=50)"
   ]
  },
  {
   "cell_type": "code",
   "execution_count": 28,
   "metadata": {},
   "outputs": [
    {
     "data": {
      "text/plain": [
       "array([-8.78743718e-17, -6.34319123e-16, -2.68291099e-15])"
      ]
     },
     "execution_count": 28,
     "metadata": {},
     "output_type": "execute_result"
    }
   ],
   "source": [
    "#centering and scaling class\n",
    "my_scaler = preprocessing.StandardScaler() \n",
    "my_scaler.fit(X[:, :3]) \n",
    "my_scaler.transform(X[:, :3]).mean(axis=0)"
   ]
  },
  {
   "cell_type": "code",
   "execution_count": 29,
   "metadata": {},
   "outputs": [
    {
     "data": {
      "text/plain": [
       "array([1., 1., 1.])"
      ]
     },
     "execution_count": 29,
     "metadata": {},
     "output_type": "execute_result"
    }
   ],
   "source": [
    "# scale the data within a certain range\n",
    "my_minmax_scaler = preprocessing.MinMaxScaler() \n",
    "my_minmax_scaler.fit(X[:, :3]) \n",
    "my_minmax_scaler.transform(X[:, :3]).max(axis=0)"
   ]
  },
  {
   "cell_type": "code",
   "execution_count": 30,
   "metadata": {},
   "outputs": [
    {
     "data": {
      "text/plain": [
       "array([0., 0., 0.])"
      ]
     },
     "execution_count": 30,
     "metadata": {},
     "output_type": "execute_result"
    }
   ],
   "source": [
    "my_minmax_scaler.transform(X[:, :3]).min(axis=0)"
   ]
  },
  {
   "cell_type": "code",
   "execution_count": 32,
   "metadata": {},
   "outputs": [
    {
     "data": {
      "text/plain": [
       "array([[3.48255018e-04, 9.91865557e-01, 1.27289413e-01],\n",
       "       [3.86277175e-03, 0.00000000e+00, 9.99992539e-01],\n",
       "       [3.85994296e-03, 0.00000000e+00, 9.99992550e-01],\n",
       "       ...,\n",
       "       [5.09297670e-03, 0.00000000e+00, 9.99987031e-01],\n",
       "       [9.18569794e-03, 0.00000000e+00, 9.99957811e-01],\n",
       "       [3.97398371e-03, 0.00000000e+00, 9.99992104e-01]])"
      ]
     },
     "execution_count": 32,
     "metadata": {},
     "output_type": "execute_result"
    }
   ],
   "source": [
    "# normalization\n",
    "normalized_X = preprocessing.normalize(X[:, :3])\n",
    "normalized_X"
   ]
  },
  {
   "cell_type": "code",
   "execution_count": 33,
   "metadata": {},
   "outputs": [
    {
     "data": {
      "text/plain": [
       "array([1., 1., 1., 1., 1., 1., 1., 1., 1., 1., 1., 1., 1., 1., 1., 1., 1.,\n",
       "       1., 1., 1., 1., 1., 1., 1., 1., 1., 1., 1., 1., 1., 1., 1., 1., 1.,\n",
       "       1., 1., 1., 1., 1., 1., 1., 1., 1., 1., 1., 1., 1., 1., 1., 1., 1.,\n",
       "       1., 1., 1., 1., 1., 1., 1., 1., 1., 1., 1., 1., 1., 1., 1., 1., 1.,\n",
       "       1., 1., 1., 1., 1., 1., 1., 1., 1., 1., 1., 1., 1., 1., 1., 1., 1.,\n",
       "       1., 1., 1., 1., 1., 1., 1., 1., 1., 1., 1., 1., 1., 1., 1., 1., 1.,\n",
       "       1., 1., 1., 1., 1., 1., 1., 1., 1., 1., 1., 1., 1., 1., 1., 1., 1.,\n",
       "       1., 1., 1., 1., 1., 1., 1., 1., 1., 1., 1., 1., 1., 1., 1., 1., 1.,\n",
       "       1., 1., 1., 1., 1., 1., 1., 1., 1., 1., 1., 1., 1., 1., 1., 1., 1.,\n",
       "       1., 1., 1., 1., 1., 1., 1., 1., 1., 1., 1., 1., 1., 1., 1., 1., 1.,\n",
       "       1., 1., 1., 1., 1., 1., 1., 1., 1., 1., 1., 1., 1., 1., 1., 1., 1.,\n",
       "       1., 1., 1., 1., 1., 1., 1., 1., 1., 1., 1., 1., 1., 1., 1., 1., 1.,\n",
       "       1., 1., 1., 1., 1., 1., 1., 1., 1., 1., 1., 1., 1., 1., 1., 1., 1.,\n",
       "       1., 1., 1., 1., 1., 1., 1., 1., 1., 1., 1., 1., 1., 1., 1., 1., 1.,\n",
       "       1., 1., 1., 1., 1., 1., 1., 1., 1., 1., 1., 1., 1., 1., 1., 1., 1.,\n",
       "       1., 1., 1., 1., 1., 1., 1., 1., 1., 1., 1., 1., 1., 1., 1., 1., 1.,\n",
       "       1., 1., 1., 1., 1., 1., 1., 1., 1., 1., 1., 1., 1., 1., 1., 1., 1.,\n",
       "       1., 1., 1., 1., 1., 1., 1., 1., 1., 1., 1., 1., 1., 1., 1., 1., 1.,\n",
       "       1., 1., 1., 1., 1., 1., 1., 1., 1., 1., 1., 1., 1., 1., 1., 1., 1.,\n",
       "       1., 1., 1., 1., 1., 1., 1., 1., 1., 1., 1., 1., 1., 1., 1., 1., 1.,\n",
       "       1., 1., 1., 1., 1., 1., 1., 1., 1., 1., 1., 1., 1., 1., 1., 1., 1.,\n",
       "       1., 1., 1., 1., 1., 1., 1., 1., 1., 1., 1., 1., 1., 1., 1., 1., 1.,\n",
       "       1., 1., 1., 1., 1., 1., 1., 1., 1., 1., 1., 1., 1., 1., 1., 1., 1.,\n",
       "       1., 1., 1., 1., 1., 1., 1., 1., 1., 1., 1., 1., 1., 1., 1., 1., 1.,\n",
       "       1., 1., 1., 1., 1., 1., 1., 1., 1., 1., 1., 1., 1., 1., 1., 1., 1.,\n",
       "       1., 1., 1., 1., 1., 1., 1., 1., 1., 1., 1., 1., 1., 1., 1., 1., 1.,\n",
       "       1., 1., 1., 1., 1., 1., 1., 1., 1., 1., 1., 1., 1., 1., 1., 1., 1.,\n",
       "       1., 1., 1., 1., 1., 1., 1., 1., 1., 1., 1., 1., 1., 1., 1., 1., 1.,\n",
       "       1., 1., 1., 1., 1., 1., 1., 1., 1., 1., 1., 1., 1., 1., 1., 1., 1.,\n",
       "       1., 1., 1., 1., 1., 1., 1., 1., 1., 1., 1., 1., 1.])"
      ]
     },
     "execution_count": 33,
     "metadata": {},
     "output_type": "execute_result"
    }
   ],
   "source": [
    "(normalized_X * normalized_X).sum(axis = 1)"
   ]
  },
  {
   "cell_type": "code",
   "execution_count": null,
   "metadata": {},
   "outputs": [],
   "source": []
  }
 ],
 "metadata": {
  "kernelspec": {
   "display_name": "Python 3",
   "language": "python",
   "name": "python3"
  },
  "language_info": {
   "codemirror_mode": {
    "name": "ipython",
    "version": 3
   },
   "file_extension": ".py",
   "mimetype": "text/x-python",
   "name": "python",
   "nbconvert_exporter": "python",
   "pygments_lexer": "ipython3",
   "version": "3.7.3"
  }
 },
 "nbformat": 4,
 "nbformat_minor": 2
}
