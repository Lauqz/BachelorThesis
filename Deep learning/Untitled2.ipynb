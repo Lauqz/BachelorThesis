{
 "cells": [
  {
   "cell_type": "code",
   "execution_count": 13,
   "metadata": {},
   "outputs": [
    {
     "name": "stdout",
     "output_type": "stream",
     "text": [
      "(28, 28)\n",
      "Model: \"sequential_7\"\n",
      "_________________________________________________________________\n",
      "Layer (type)                 Output Shape              Param #   \n",
      "=================================================================\n",
      "lstm_13 (LSTM)               (None, 28, 128)           80384     \n",
      "_________________________________________________________________\n",
      "lstm_14 (LSTM)               (None, 128)               131584    \n",
      "_________________________________________________________________\n",
      "dense_10 (Dense)             (None, 32)                4128      \n",
      "_________________________________________________________________\n",
      "dense_11 (Dense)             (None, 10)                330       \n",
      "=================================================================\n",
      "Total params: 216,426\n",
      "Trainable params: 216,426\n",
      "Non-trainable params: 0\n",
      "_________________________________________________________________\n"
     ]
    }
   ],
   "source": [
    "import tensorflow as tf\n",
    "\n",
    "batch_size = 128\n",
    "num_classes = 10\n",
    "epochs = 20\n",
    "\n",
    "(x_train, y_train), (x_test, y_test) = tf.keras.datasets.mnist.load_data()\n",
    "\n",
    "x_train = x_train.astype('float32')\n",
    "x_test = x_test.astype('float32')\n",
    "x_train /= 255\n",
    "x_test /= 255\n",
    "print(x_train.shape[1:])\n",
    "\n",
    "y_train = tf.keras.utils.to_categorical(y_train, num_classes)\n",
    "y_test = tf.keras.utils.to_categorical(y_test, num_classes)\n",
    "\n",
    "model = tf.keras.Sequential()\n",
    "model.add(tf.keras.layers.LSTM(128, input_shape=(x_train.shape[1:]), activation='relu',return_sequences=True))\n",
    "model.add(tf.keras.layers.LSTM(128, activation='relu'))\n",
    "model.add(tf.keras.layers.Dense(32, activation='relu'))\n",
    "model.add(tf.keras.layers.Dense(10, activation='softmax'))\n",
    "\n",
    "model.summary()"
   ]
  },
  {
   "cell_type": "code",
   "execution_count": null,
   "metadata": {},
   "outputs": [
    {
     "name": "stdout",
     "output_type": "stream",
     "text": [
      "Train on 60000 samples, validate on 10000 samples\n",
      "Epoch 1/20\n",
      "60000/60000 [==============================] - 71s 1ms/sample - loss: 0.8979 - accuracy: 0.7012 - val_loss: 0.2648 - val_accuracy: 0.9158\n",
      "Epoch 2/20\n",
      "60000/60000 [==============================] - 64s 1ms/sample - loss: 0.2225 - accuracy: 0.9344 - val_loss: 0.1241 - val_accuracy: 0.9632\n",
      "Epoch 3/20\n",
      "60000/60000 [==============================] - 64s 1ms/sample - loss: 0.1282 - accuracy: 0.9617 - val_loss: 0.0921 - val_accuracy: 0.9738\n",
      "Epoch 4/20\n",
      "60000/60000 [==============================] - 67s 1ms/sample - loss: 0.0943 - accuracy: 0.9731 - val_loss: 0.1345 - val_accuracy: 0.9557\n",
      "Epoch 5/20\n",
      "60000/60000 [==============================] - 66s 1ms/sample - loss: 0.0759 - accuracy: 0.9784 - val_loss: 0.0762 - val_accuracy: 0.9775\n",
      "Epoch 6/20\n",
      "60000/60000 [==============================] - 63s 1ms/sample - loss: 0.0610 - accuracy: 0.9825 - val_loss: 0.0491 - val_accuracy: 0.9851\n",
      "Epoch 7/20\n",
      "60000/60000 [==============================] - 60s 994us/sample - loss: 0.0529 - accuracy: 0.9853 - val_loss: 0.0545 - val_accuracy: 0.9836\n",
      "Epoch 8/20\n",
      "60000/60000 [==============================] - 58s 959us/sample - loss: 0.0465 - accuracy: 0.9863 - val_loss: 0.0637 - val_accuracy: 0.9841\n",
      "Epoch 9/20\n",
      "60000/60000 [==============================] - 60s 993us/sample - loss: 0.0406 - accuracy: 0.9878 - val_loss: 0.0628 - val_accuracy: 0.9820\n",
      "Epoch 10/20\n",
      "60000/60000 [==============================] - 60s 999us/sample - loss: 0.0362 - accuracy: 0.9897 - val_loss: 0.0394 - val_accuracy: 0.9874\n",
      "Epoch 11/20\n",
      "60000/60000 [==============================] - 57s 958us/sample - loss: 0.0378 - accuracy: 0.9900 - val_loss: 0.0498 - val_accuracy: 0.9867\n",
      "Epoch 12/20\n",
      "60000/60000 [==============================] - 60s 1ms/sample - loss: 0.0346 - accuracy: 0.9905 - val_loss: 0.0434 - val_accuracy: 0.9876\n",
      "Epoch 13/20\n",
      "60000/60000 [==============================] - 59s 985us/sample - loss: 0.0344 - accuracy: 0.9911 - val_loss: 0.0882 - val_accuracy: 0.9814\n",
      "Epoch 14/20\n",
      "60000/60000 [==============================] - 60s 997us/sample - loss: 0.0332 - accuracy: 0.9917 - val_loss: 0.0496 - val_accuracy: 0.9881\n",
      "Epoch 15/20\n",
      "37888/60000 [=================>............] - ETA: 21s - loss: 0.0587 - accuracy: 0.9920"
     ]
    }
   ],
   "source": [
    "model.compile(loss='categorical_crossentropy', optimizer = tf.keras.optimizers.RMSprop(), metrics=['accuracy'])\n",
    "\n",
    "history = model.fit(x_train, y_train, batch_size=batch_size, epochs = epochs, verbose=1, validation_data=(x_test, y_test))\n",
    "\n",
    "score = model.evaluate(x_test, y_test, verbose=0)\n",
    "print('Test loss:', score[0])\n",
    "print('Test accuracy:', score[1])"
   ]
  },
  {
   "cell_type": "code",
   "execution_count": null,
   "metadata": {},
   "outputs": [],
   "source": []
  }
 ],
 "metadata": {
  "kernelspec": {
   "display_name": "Python 3",
   "language": "python",
   "name": "python3"
  },
  "language_info": {
   "codemirror_mode": {
    "name": "ipython",
    "version": 3
   },
   "file_extension": ".py",
   "mimetype": "text/x-python",
   "name": "python",
   "nbconvert_exporter": "python",
   "pygments_lexer": "ipython3",
   "version": "3.7.4"
  }
 },
 "nbformat": 4,
 "nbformat_minor": 2
}
